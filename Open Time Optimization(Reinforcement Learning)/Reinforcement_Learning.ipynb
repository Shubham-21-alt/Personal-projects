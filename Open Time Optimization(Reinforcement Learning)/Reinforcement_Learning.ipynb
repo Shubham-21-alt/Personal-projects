{
 "cells": [
  {
   "cell_type": "code",
   "execution_count": 1,
   "metadata": {
    "id": "-_ihHxn4hUSh"
   },
   "outputs": [],
   "source": [
    "import pandas as pd\n",
    "import numpy as np"
   ]
  },
  {
   "cell_type": "code",
   "execution_count": 3,
   "metadata": {
    "id": "rzjeZCOohXsJ"
   },
   "outputs": [],
   "source": [
    "open = pd.DataFrame(columns = ['c1', 'c2', 'c3', 'c4', 'c5', 'c6', 'c7'])\n",
    "non_open = pd.DataFrame(columns = ['c1', 'c2', 'c3', 'c4', 'c5', 'c6', 'c7'])\n",
    "output = [0, 99, 198, 297, 396, 495, 594, 693, 792, 891]\n",
    "graph = pd.DataFrame(columns = ['c1', 'c2', 'c3', 'c4', 'c5', 'c6', 'c7'])\n",
    "a = 0"
   ]
  },
  {
   "cell_type": "code",
   "execution_count": 24,
   "metadata": {
    "id": "dvQ_pVC2iVPZ"
   },
   "outputs": [],
   "source": [
    "for i in range(100):                                                    # Number of customers\n",
    "\n",
    "  N = 7                                                                 # Days in a week\n",
    "  means = np.array([0.064, 0.088, 0.085, 0.077, 0.096, 0.093, 0.077])       # Reward for each day\n",
    "  prob = np.zeros(N)\n",
    "  S = np.zeros(N, dtype = int)\n",
    "  F = np.zeros(N, dtype = int)\n",
    "  rnd = np.random.RandomState()\n",
    "\n",
    "  for trial in range(1000):                                             # Number of mails for each card member\n",
    "    for j in range(N):\n",
    "      prob[j] = rnd.beta(S[j]+1, F[j]+1)\n",
    "\n",
    "    machine = np.argmax(prob)\n",
    "\n",
    "    p = rnd.random_sample()\n",
    "\n",
    "    if p < means[machine]:\n",
    "      S[machine] += 1\n",
    "    else:\n",
    "      F[machine] += 1\n",
    "    \n",
    "\n",
    " \n",
    "\n",
    "  open.loc[i] = S\n",
    "  non_open.loc[i] = F\n",
    "    \n",
    "\n",
    "    \n",
    "    \n",
    "    "
   ]
  },
  {
   "cell_type": "code",
   "execution_count": 5,
   "metadata": {
    "colab": {
     "base_uri": "https://localhost:8080/",
     "height": 206
    },
    "id": "Ms9CD5tCls5y",
    "outputId": "9a1fb2b0-7c4f-4cba-85dc-73e086a95dab"
   },
   "outputs": [
    {
     "data": {
      "text/html": [
       "<div>\n",
       "<style scoped>\n",
       "    .dataframe tbody tr th:only-of-type {\n",
       "        vertical-align: middle;\n",
       "    }\n",
       "\n",
       "    .dataframe tbody tr th {\n",
       "        vertical-align: top;\n",
       "    }\n",
       "\n",
       "    .dataframe thead th {\n",
       "        text-align: right;\n",
       "    }\n",
       "</style>\n",
       "<table border=\"1\" class=\"dataframe\">\n",
       "  <thead>\n",
       "    <tr style=\"text-align: right;\">\n",
       "      <th></th>\n",
       "      <th>c1</th>\n",
       "      <th>c2</th>\n",
       "      <th>c3</th>\n",
       "      <th>c4</th>\n",
       "      <th>c5</th>\n",
       "      <th>c6</th>\n",
       "      <th>c7</th>\n",
       "    </tr>\n",
       "  </thead>\n",
       "  <tbody>\n",
       "    <tr>\n",
       "      <th>0</th>\n",
       "      <td>2</td>\n",
       "      <td>14</td>\n",
       "      <td>12</td>\n",
       "      <td>24</td>\n",
       "      <td>5</td>\n",
       "      <td>20</td>\n",
       "      <td>2</td>\n",
       "    </tr>\n",
       "    <tr>\n",
       "      <th>1</th>\n",
       "      <td>8</td>\n",
       "      <td>34</td>\n",
       "      <td>18</td>\n",
       "      <td>10</td>\n",
       "      <td>18</td>\n",
       "      <td>0</td>\n",
       "      <td>5</td>\n",
       "    </tr>\n",
       "    <tr>\n",
       "      <th>2</th>\n",
       "      <td>3</td>\n",
       "      <td>10</td>\n",
       "      <td>9</td>\n",
       "      <td>11</td>\n",
       "      <td>13</td>\n",
       "      <td>21</td>\n",
       "      <td>13</td>\n",
       "    </tr>\n",
       "    <tr>\n",
       "      <th>3</th>\n",
       "      <td>11</td>\n",
       "      <td>9</td>\n",
       "      <td>7</td>\n",
       "      <td>4</td>\n",
       "      <td>9</td>\n",
       "      <td>31</td>\n",
       "      <td>7</td>\n",
       "    </tr>\n",
       "    <tr>\n",
       "      <th>4</th>\n",
       "      <td>8</td>\n",
       "      <td>1</td>\n",
       "      <td>1</td>\n",
       "      <td>3</td>\n",
       "      <td>68</td>\n",
       "      <td>11</td>\n",
       "      <td>1</td>\n",
       "    </tr>\n",
       "  </tbody>\n",
       "</table>\n",
       "</div>"
      ],
      "text/plain": [
       "   c1  c2  c3  c4  c5  c6  c7\n",
       "0   2  14  12  24   5  20   2\n",
       "1   8  34  18  10  18   0   5\n",
       "2   3  10   9  11  13  21  13\n",
       "3  11   9   7   4   9  31   7\n",
       "4   8   1   1   3  68  11   1"
      ]
     },
     "execution_count": 5,
     "metadata": {},
     "output_type": "execute_result"
    }
   ],
   "source": [
    "open.head()"
   ]
  },
  {
   "cell_type": "code",
   "execution_count": 6,
   "metadata": {
    "colab": {
     "base_uri": "https://localhost:8080/",
     "height": 206
    },
    "id": "4hbEgdP-l5HQ",
    "outputId": "15acb7fc-f8a5-48e7-b35d-e95d7047904b"
   },
   "outputs": [
    {
     "data": {
      "text/html": [
       "<div>\n",
       "<style scoped>\n",
       "    .dataframe tbody tr th:only-of-type {\n",
       "        vertical-align: middle;\n",
       "    }\n",
       "\n",
       "    .dataframe tbody tr th {\n",
       "        vertical-align: top;\n",
       "    }\n",
       "\n",
       "    .dataframe thead th {\n",
       "        text-align: right;\n",
       "    }\n",
       "</style>\n",
       "<table border=\"1\" class=\"dataframe\">\n",
       "  <thead>\n",
       "    <tr style=\"text-align: right;\">\n",
       "      <th></th>\n",
       "      <th>c1</th>\n",
       "      <th>c2</th>\n",
       "      <th>c3</th>\n",
       "      <th>c4</th>\n",
       "      <th>c5</th>\n",
       "      <th>c6</th>\n",
       "      <th>c7</th>\n",
       "    </tr>\n",
       "  </thead>\n",
       "  <tbody>\n",
       "    <tr>\n",
       "      <th>0</th>\n",
       "      <td>63</td>\n",
       "      <td>159</td>\n",
       "      <td>153</td>\n",
       "      <td>231</td>\n",
       "      <td>75</td>\n",
       "      <td>192</td>\n",
       "      <td>48</td>\n",
       "    </tr>\n",
       "    <tr>\n",
       "      <th>1</th>\n",
       "      <td>110</td>\n",
       "      <td>280</td>\n",
       "      <td>163</td>\n",
       "      <td>124</td>\n",
       "      <td>136</td>\n",
       "      <td>29</td>\n",
       "      <td>65</td>\n",
       "    </tr>\n",
       "    <tr>\n",
       "      <th>2</th>\n",
       "      <td>61</td>\n",
       "      <td>142</td>\n",
       "      <td>114</td>\n",
       "      <td>124</td>\n",
       "      <td>125</td>\n",
       "      <td>208</td>\n",
       "      <td>146</td>\n",
       "    </tr>\n",
       "    <tr>\n",
       "      <th>3</th>\n",
       "      <td>131</td>\n",
       "      <td>108</td>\n",
       "      <td>94</td>\n",
       "      <td>78</td>\n",
       "      <td>136</td>\n",
       "      <td>273</td>\n",
       "      <td>102</td>\n",
       "    </tr>\n",
       "    <tr>\n",
       "      <th>4</th>\n",
       "      <td>103</td>\n",
       "      <td>43</td>\n",
       "      <td>41</td>\n",
       "      <td>65</td>\n",
       "      <td>493</td>\n",
       "      <td>122</td>\n",
       "      <td>40</td>\n",
       "    </tr>\n",
       "  </tbody>\n",
       "</table>\n",
       "</div>"
      ],
      "text/plain": [
       "    c1   c2   c3   c4   c5   c6   c7\n",
       "0   63  159  153  231   75  192   48\n",
       "1  110  280  163  124  136   29   65\n",
       "2   61  142  114  124  125  208  146\n",
       "3  131  108   94   78  136  273  102\n",
       "4  103   43   41   65  493  122   40"
      ]
     },
     "execution_count": 6,
     "metadata": {},
     "output_type": "execute_result"
    }
   ],
   "source": [
    "non_open.head()"
   ]
  },
  {
   "cell_type": "code",
   "execution_count": null,
   "metadata": {
    "id": "q62plt9dl8Qt"
   },
   "outputs": [],
   "source": []
  }
 ],
 "metadata": {
  "colab": {
   "provenance": []
  },
  "kernelspec": {
   "display_name": "Python 3 (ipykernel)",
   "language": "python",
   "name": "python3"
  },
  "language_info": {
   "codemirror_mode": {
    "name": "ipython",
    "version": 3
   },
   "file_extension": ".py",
   "mimetype": "text/x-python",
   "name": "python",
   "nbconvert_exporter": "python",
   "pygments_lexer": "ipython3",
   "version": "3.11.4"
  }
 },
 "nbformat": 4,
 "nbformat_minor": 1
}
