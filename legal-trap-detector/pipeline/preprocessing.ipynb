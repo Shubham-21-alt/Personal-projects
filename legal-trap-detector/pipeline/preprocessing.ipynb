{
 "cells": [
  {
   "cell_type": "code",
   "execution_count": 20,
   "id": "925cf5e8-cfe1-471c-b0af-c5dfc83faefd",
   "metadata": {},
   "outputs": [],
   "source": [
    "import re\n",
    "import spacy\n",
    "\n",
    "\n",
    "nlp = spacy.load(\"en_core_web_sm\")\n",
    "def read_text_file(filepath):\n",
    "    with open(filepath, \"r\", encoding=\"utf-8\") as f:\n",
    "        text = f.read()\n",
    "    return text\n",
    "def clean_sentence(sentence):\n",
    "    sentence = sentence.lower()\n",
    "    sentence = re.sub(r\"\\s+\", \" \", sentence)  \n",
    "    sentence = re.sub(r\"[\\n\\r\\t]\", \" \", sentence) \n",
    "    sentence = re.sub(r\" +\", \" \", sentence)  \n",
    "    sentence = sentence.strip()\n",
    "    return sentence\n",
    "def preprocess_text(filepath):\n",
    "    raw_text = read_text_file(filepath)\n",
    "    doc = nlp(raw_text)\n",
    "    sentences = [sent.text for sent in doc.sents]\n",
    "    cleaned_sentences = [clean_sentence(s) for s in sentences if len(s.strip()) > 3]\n",
    "    return cleaned_sentences\n",
    "\n"
   ]
  },
  {
   "cell_type": "code",
   "execution_count": 23,
   "id": "7f77a4de-0fd8-46fd-b125-94b1b026c6f5",
   "metadata": {},
   "outputs": [
    {
     "name": "stdout",
     "output_type": "stream",
     "text": [
      "Cleaned Sentences:\n",
      "- if you don't cancel your membership before the trial ends, you'll be charged the standard monthly fee.\n",
      "- we can update these terms whenever we want, and you agree to keep using the service under new terms.\n",
      "- by continuing to browse, you accept all modifications made to this agreement.\n",
      "- any disagreements must go through arbitration instead of regular court.\n",
      "- the company may close your account at any time without giving a reason.\n",
      "- your credit card will be billed if no action is taken by the end of the trial.\n",
      "- we may share your personal data with external marketing firms.\n",
      "- we’re not responsible if the website causes any sort of indirect or incidental loss.\n",
      "- any suggestions you send us can be used without giving you credit or payment.\n",
      "- we may freeze your access to the platform without notifying you.\n",
      "- you cannot sue us as part of a group legal case.\n",
      "- only the laws of california will apply in case of any legal conflict.\n",
      "- we don't promise any refunds under any situation.\n",
      "- prices and features are subject to change at any time without notice.\n",
      "- you are expected to follow all rules and local laws while using our app.\n",
      "- some features might not be available depending on your country or local regulations.\n",
      "- we reserve the right to slow down your service if there's too much traffic.\n",
      "- this app can continue running in the background to collect analytics even when closed.\n",
      "- you may be automatically signed up for a paid version after the trial ends.\n",
      "- your continued usage means you accept whatever updates we make to the policy.\n",
      "- some images uploaded may be used in future ai training processes.\n",
      "- you may receive promotional messages from us and our partners unless you unsubscribe.\n",
      "- we might analyze public data to improve our personalization algorithms.\n",
      "- please note that changes to the refund policy will be posted on the website.\n",
      "- hello there welcome to the app.\n",
      "- i hope you like the experience.\n",
      "- congratulations on your new car .\n"
     ]
    }
   ],
   "source": [
    "if __name__ == \"__main__\":\n",
    "    test_path = \"C:\\\\Users\\\\Dell\\\\Desktop\\\\legal-trap-detector\\\\data\\\\sample_input.txt\" \n",
    "    result = preprocess_text(test_path)\n",
    "    print(\"Cleaned Sentences:\")\n",
    "    for sentence in result:\n",
    "        print(\"-\", sentence)"
   ]
  },
  {
   "cell_type": "code",
   "execution_count": null,
   "id": "6bbd051b-6966-4f48-9a75-fd8ff128c68c",
   "metadata": {},
   "outputs": [],
   "source": [
    "\n"
   ]
  },
  {
   "cell_type": "code",
   "execution_count": null,
   "id": "3f4b45b6-9f73-406d-9f12-8c23ac1f66e9",
   "metadata": {},
   "outputs": [],
   "source": [
    "\n",
    "\n"
   ]
  },
  {
   "cell_type": "code",
   "execution_count": null,
   "id": "78e77e49-bea0-464c-b4f0-1e1a86b21bfc",
   "metadata": {},
   "outputs": [],
   "source": [
    "\n",
    "\n"
   ]
  },
  {
   "cell_type": "code",
   "execution_count": null,
   "id": "b142a2ea-41a2-4644-984f-8fac3912ded8",
   "metadata": {},
   "outputs": [],
   "source": []
  }
 ],
 "metadata": {
  "kernelspec": {
   "display_name": "Python (Trap Project)",
   "language": "python",
   "name": "trap-env"
  },
  "language_info": {
   "codemirror_mode": {
    "name": "ipython",
    "version": 3
   },
   "file_extension": ".py",
   "mimetype": "text/x-python",
   "name": "python",
   "nbconvert_exporter": "python",
   "pygments_lexer": "ipython3",
   "version": "3.10.18"
  }
 },
 "nbformat": 4,
 "nbformat_minor": 5
}
