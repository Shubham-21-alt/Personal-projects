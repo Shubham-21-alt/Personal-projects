{
 "cells": [
  {
   "cell_type": "code",
   "execution_count": 23,
   "id": "b7101f66-85d4-44af-82ea-6c2b92cf2d85",
   "metadata": {},
   "outputs": [],
   "source": [
    "import os\n",
    "from preprocessing import preprocess_text\n",
    "from matcher import load_trap_clauses, match_sentences_to_traps\n",
    "\n",
    "def highlight_sensitive_clauses(input_sentences, matches, threshold=0.5, output_path=\"C:\\\\Users\\\\Dell\\\\Desktop\\\\legal-trap-detector\\\\output\\\\flagged_output.html\"):\n",
    "    \n",
    "    filtered_matches = [match for match in matches if match[\"similarity\"] >= threshold]\n",
    "    matched_sentences = set(match[\"sentence\"] for match in filtered_matches)\n",
    "\n",
    "    html_lines = []\n",
    "    for sentence in input_sentences:\n",
    "        if sentence in matched_sentences:\n",
    "            html_lines.append(f\"<mark>{sentence}</mark>\")\n",
    "        else:\n",
    "            html_lines.append(sentence)\n",
    "\n",
    "    html_output = \"<br><br>\".join(html_lines)\n",
    "\n",
    "    os.makedirs(os.path.dirname(output_path), exist_ok=True)\n",
    "    with open(output_path, \"w\", encoding=\"utf-8\") as f:\n",
    "        f.write(\"<html><body>\" + html_output + \"</body></html>\")\n",
    "\n",
    "    print(f\"\\n Highlighted output saved to: {output_path}\")\n",
    "\n",
    "\n",
    "\n"
   ]
  },
  {
   "cell_type": "code",
   "execution_count": 19,
   "id": "8994e090-7904-4fb1-904e-a6beb44e56df",
   "metadata": {},
   "outputs": [],
   "source": [
    "filepath =\"C:\\\\Users\\\\Dell\\\\Desktop\\\\legal-trap-detector\\\\data\\\\sample_input.txt\"\n",
    "trapfile=\"C:\\\\Users\\\\Dell\\\\Desktop\\\\legal-trap-detector\\\\traps\\\\trap_clauses.json\""
   ]
  },
  {
   "cell_type": "code",
   "execution_count": 25,
   "id": "d28f3d61-40d3-4945-8b4d-912b9eb35b6d",
   "metadata": {},
   "outputs": [
    {
     "name": "stdout",
     "output_type": "stream",
     "text": [
      "\n",
      "✅ Highlighted output saved to: C:\\Users\\Dell\\Desktop\\legal-trap-detector\\output\\flagged_output.html\n"
     ]
    }
   ],
   "source": [
    "if __name__ == \"__main__\":   \n",
    "    input_sentences = preprocess_text(filepath)\n",
    "    trap_clauses = load_trap_clauses(trapfile)\n",
    "    matches = match_sentences_to_traps(input_sentences, trap_clauses, threshold=0.55)\n",
    "    highlight_sensitive_clauses(input_sentences, matches)"
   ]
  }
 ],
 "metadata": {
  "kernelspec": {
   "display_name": "Python (Trap Project)",
   "language": "python",
   "name": "trap-env"
  },
  "language_info": {
   "codemirror_mode": {
    "name": "ipython",
    "version": 3
   },
   "file_extension": ".py",
   "mimetype": "text/x-python",
   "name": "python",
   "nbconvert_exporter": "python",
   "pygments_lexer": "ipython3",
   "version": "3.10.18"
  }
 },
 "nbformat": 4,
 "nbformat_minor": 5
}
