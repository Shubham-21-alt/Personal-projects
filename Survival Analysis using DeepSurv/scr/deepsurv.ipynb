{
 "cells": [
  {
   "cell_type": "code",
   "execution_count": 78,
   "id": "b070d9ce-4670-472a-9290-4bc820b8d887",
   "metadata": {},
   "outputs": [],
   "source": [
    "# deepsurv.py\n",
    "\n",
    "import torch\n",
    "import torch.nn as nn\n",
    "import torch.optim as optim\n",
    "import pandas as pd\n",
    "import numpy as np\n",
    "from sklearn.preprocessing import StandardScaler\n",
    "from lifelines.utils import concordance_index\n",
    "from torch.utils.data import DataLoader, TensorDataset\n",
    "\n",
    "# DeepSurv Neural Network\n",
    "class DeepSurv(nn.Module):\n",
    "    def __init__(self, input_dim):\n",
    "        super(DeepSurv, self).__init__()\n",
    "        self.net = nn.Sequential(\n",
    "            nn.Linear(input_dim, 64),\n",
    "            nn.ReLU(),\n",
    "            nn.Dropout(0.1),\n",
    "            nn.Linear(64, 32),\n",
    "            nn.ReLU(),\n",
    "            nn.Dropout(0.1),\n",
    "            nn.Linear(32, 1)\n",
    "        )\n",
    "\n",
    "    def forward(self, x):\n",
    "        return self.net(x)\n",
    "\n",
    "# Negative partial log-likelihood loss\n",
    "class CoxPHLoss(nn.Module):\n",
    "    def forward(self, risk, time, event):\n",
    "        order = torch.argsort(time, descending=True)\n",
    "        risk = risk[order]\n",
    "        event = event[order]\n",
    "\n",
    "        log_cumsum_exp = torch.logcumsumexp(risk, dim=0)\n",
    "        diff = risk - log_cumsum_exp\n",
    "        loss = -torch.sum(diff * event) / event.sum()\n",
    "        return loss\n",
    "\n",
    "def train_deepsurv(df_train, feature_cols, time_col, event_col, epochs=500, lr=5e-5):\n",
    "    scaler = StandardScaler()\n",
    "    df_train[feature_cols] = scaler.fit_transform(df_train[feature_cols])\n",
    "\n",
    "    x_train = torch.tensor(df_train[feature_cols].values, dtype=torch.float32)\n",
    "    time_train = torch.tensor(df_train[time_col].values, dtype=torch.float32)\n",
    "    event_train = torch.tensor(df_train[event_col].values, dtype=torch.float32)\n",
    "\n",
    "    dataset = TensorDataset(x_train, time_train, event_train)\n",
    "    loader = DataLoader(dataset, batch_size=256, shuffle=True)\n",
    "\n",
    "    model = DeepSurv(input_dim=x_train.shape[1])\n",
    "    optimizer = optim.Adam(model.parameters(), lr=lr, weight_decay=1e-5)\n",
    "    loss_fn = CoxPHLoss()\n",
    "\n",
    "    model.train()\n",
    "    for epoch in range(epochs):\n",
    "        epoch_loss = 0.0\n",
    "        for xb, tb, eb in loader:\n",
    "            optimizer.zero_grad()\n",
    "            risk_pred = model(xb).squeeze()\n",
    "            loss = loss_fn(risk_pred, tb, eb)\n",
    "            loss.backward()\n",
    "            optimizer.step()\n",
    "            epoch_loss += loss.item()\n",
    "        if epoch % 10 == 0:\n",
    "            print(f\"Epoch {epoch} | Loss: {epoch_loss:.4f}\")\n",
    "\n",
    "    return model, scaler\n",
    "\n",
    "def evaluate_model(model, scaler, df_test, feature_cols, time_col, event_col):\n",
    "    df_test[feature_cols] = scaler.transform(df_test[feature_cols])\n",
    "    model.eval()\n",
    "    x_test = torch.tensor(df_test[feature_cols].values, dtype=torch.float32)\n",
    "    with torch.no_grad():\n",
    "        log_risk = model(x_test).squeeze().numpy()\n",
    "    df_test[\"log_risk\"] = log_risk\n",
    "    df_test[\"relative_risk\"] = np.exp(log_risk)\n",
    "    c_index = concordance_index(df_test[time_col], -log_risk, df_test[event_col])\n",
    "    print(\"Concordance Index on test set:\", round(c_index, 4))\n",
    "    return df_test\n",
    "\n"
   ]
  },
  {
   "cell_type": "code",
   "execution_count": 79,
   "id": "741ca903-f72f-4f9c-aa5f-32de4e58719b",
   "metadata": {},
   "outputs": [],
   "source": [
    "df_full = pd.read_csv(\"C:\\\\Users\\\\Dell\\\\Desktop\\\\deepsa\\\\data\\\\final_data.csv\")\n"
   ]
  },
  {
   "cell_type": "code",
   "execution_count": 80,
   "id": "0789d4f7-c13a-4c67-9ad2-c09b9fdecd69",
   "metadata": {},
   "outputs": [],
   "source": [
    "from lifelines import KaplanMeierFitter\n",
    "from lifelines.statistics import logrank_test\n",
    "import matplotlib.pyplot as plt\n"
   ]
  },
  {
   "cell_type": "code",
   "execution_count": 81,
   "id": "48e0c8bd-5c3f-4391-8d0b-3c2d470c30e8",
   "metadata": {},
   "outputs": [
    {
     "name": "stdout",
     "output_type": "stream",
     "text": [
      "Epoch 0 | Loss: 16.4200\n",
      "Epoch 10 | Loss: 16.3668\n",
      "Epoch 20 | Loss: 16.2907\n",
      "Epoch 30 | Loss: 16.3866\n",
      "Epoch 40 | Loss: 16.2085\n",
      "Epoch 50 | Loss: 16.1151\n",
      "Epoch 60 | Loss: 16.0472\n",
      "Epoch 70 | Loss: 16.0613\n",
      "Epoch 80 | Loss: 15.9164\n",
      "Epoch 90 | Loss: 15.9355\n",
      "Epoch 100 | Loss: 15.8007\n",
      "Epoch 110 | Loss: 15.7235\n",
      "Epoch 120 | Loss: 15.6861\n",
      "Epoch 130 | Loss: 15.6395\n",
      "Epoch 140 | Loss: 15.5852\n",
      "Epoch 150 | Loss: 15.5271\n",
      "Epoch 160 | Loss: 15.4553\n",
      "Epoch 170 | Loss: 15.4723\n",
      "Epoch 180 | Loss: 15.4531\n",
      "Epoch 190 | Loss: 15.3694\n",
      "Epoch 200 | Loss: 15.4231\n",
      "Epoch 210 | Loss: 15.1842\n",
      "Epoch 220 | Loss: 15.4394\n",
      "Epoch 230 | Loss: 15.2900\n",
      "Epoch 240 | Loss: 15.1768\n",
      "Epoch 250 | Loss: 15.3536\n",
      "Epoch 260 | Loss: 15.2553\n",
      "Epoch 270 | Loss: 15.1082\n",
      "Epoch 280 | Loss: 15.2891\n",
      "Epoch 290 | Loss: 15.0912\n",
      "Epoch 300 | Loss: 15.1790\n",
      "Epoch 310 | Loss: 15.1740\n",
      "Epoch 320 | Loss: 15.2128\n",
      "Epoch 330 | Loss: 15.0942\n",
      "Epoch 340 | Loss: 14.8531\n",
      "Epoch 350 | Loss: 14.8842\n",
      "Epoch 360 | Loss: 15.0521\n",
      "Epoch 370 | Loss: 15.1012\n",
      "Epoch 380 | Loss: 14.9646\n",
      "Epoch 390 | Loss: 15.0673\n",
      "Epoch 400 | Loss: 15.0794\n",
      "Epoch 410 | Loss: 15.0676\n",
      "Epoch 420 | Loss: 15.1405\n",
      "Epoch 430 | Loss: 15.0085\n",
      "Epoch 440 | Loss: 15.2850\n",
      "Epoch 450 | Loss: 15.2609\n",
      "Epoch 460 | Loss: 14.7490\n",
      "Epoch 470 | Loss: 14.9820\n",
      "Epoch 480 | Loss: 15.1303\n",
      "Epoch 490 | Loss: 15.0532\n",
      "Concordance Index on test set: 0.8765\n"
     ]
    }
   ],
   "source": [
    "from sklearn.model_selection import train_test_split\n",
    "\n",
    "df_train, df_test = train_test_split(df_full, test_size=0.2, random_state=42)\n",
    "feature_cols = [\"age\", \"sex\", \"aps\", \"sps\", \"num.co\", \"wblc\", \"income\"]\n",
    "\n",
    "model, scaler = train_deepsurv(df_train, feature_cols, \"time_active\", \"dropout\")\n",
    "df_test = evaluate_model(model, scaler, df_test, feature_cols, \"time_active\", \"dropout\")\n"
   ]
  },
  {
   "cell_type": "code",
   "execution_count": 82,
   "id": "0a3a5451-d7e5-42af-8bcd-5d5fe46a8515",
   "metadata": {},
   "outputs": [
    {
     "data": {
      "image/png": "[encoded data removed]",
      "text/plain": [
       "<Figure size 800x600 with 1 Axes>"
      ]
     },
     "metadata": {},
     "output_type": "display_data"
    }
   ],
   "source": [
    "\n",
    "df_test[\"deepsurv_risk_group\"] = pd.qcut(df_test[\"log_risk\"], q=3, labels=[\"Low\", \"Medium\", \"High\"])\n",
    "from lifelines import KaplanMeierFitter\n",
    "import matplotlib.pyplot as plt\n",
    "\n",
    "kmf = KaplanMeierFitter()\n",
    "plt.figure(figsize=(8,6))\n",
    "\n",
    "for group in [\"Low\", \"Medium\", \"High\"]:\n",
    "    mask = df_test[\"deepsurv_risk_group\"] == group\n",
    "    kmf.fit(durations=df_test.loc[mask, \"time_active\"],\n",
    "            event_observed=df_test.loc[mask, \"dropout\"],\n",
    "            label=f\"DeepSurv: {group} Risk\")\n",
    "    kmf.plot_survival_function()\n",
    "\n",
    "plt.title(\"Kaplan-Meier Curves by DeepSurv Risk Groups\")\n",
    "plt.xlabel(\"Time\")\n",
    "plt.ylabel(\"Survival Probability\")\n",
    "plt.grid(True)\n",
    "plt.tight_layout()\n",
    "plt.show()\n",
    "\n",
    "\n",
    "\n"
   ]
  },
  {
   "cell_type": "code",
   "execution_count": 84,
   "id": "9795f56a-7149-4fdd-a7e9-9ab5cecf5162",
   "metadata": {},
   "outputs": [
    {
     "name": "stdout",
     "output_type": "stream",
     "text": [
      "📊 Median Survival Time by Risk Group:\n",
      "\n",
      " Low Risk Group → Median survival time = 2.7 days\n",
      " Medium Risk Group → Median survival time = 1.0 days\n",
      " High Risk Group → Median survival time = 1.0 days\n"
     ]
    }
   ],
   "source": [
    "from lifelines import KaplanMeierFitter\n",
    "\n",
    "kmf = KaplanMeierFitter()\n",
    "\n",
    "print(\"📊 Median Survival Time by Risk Group:\\n\")\n",
    "\n",
    "for group in [\"Low\", \"Medium\", \"High\"]:\n",
    "    mask = df_test[\"deepsurv_risk_group\"] == group\n",
    "    kmf.fit(durations=df_test.loc[mask, \"time_active\"],\n",
    "            event_observed=df_test.loc[mask, \"dropout\"],\n",
    "            label=f\"DeepSurv: {group} Risk\")\n",
    "\n",
    "    median_surv = kmf.median_survival_time_\n",
    "\n",
    "    print(f\" {group} Risk Group → Median survival time = {median_surv:.1f} days\")\n"
   ]
  },
  {
   "cell_type": "code",
   "execution_count": null,
   "id": "11f2343c-0887-495d-a0e9-c3761b51539e",
   "metadata": {},
   "outputs": [],
   "source": [
    "\n"
   ]
  },
  {
   "cell_type": "code",
   "execution_count": null,
   "id": "850b3b6c-e986-41a9-8007-d65d7b61e3f5",
   "metadata": {},
   "outputs": [],
   "source": []
  }
 ],
 "metadata": {
  "kernelspec": {
   "display_name": "Python (sa-deep)",
   "language": "python",
   "name": "sa-deep"
  },
  "language_info": {
   "codemirror_mode": {
    "name": "ipython",
    "version": 3
   },
   "file_extension": ".py",
   "mimetype": "text/x-python",
   "name": "python",
   "nbconvert_exporter": "python",
   "pygments_lexer": "ipython3",
   "version": "3.10.18"
  }
 },
 "nbformat": 4,
 "nbformat_minor": 5
}
